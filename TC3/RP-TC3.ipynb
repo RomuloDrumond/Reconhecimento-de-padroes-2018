{
 "cells": [
  {
   "cell_type": "markdown",
   "metadata": {},
   "source": [
    "# 1. Introdução"
   ]
  },
  {
   "cell_type": "markdown",
   "metadata": {},
   "source": [
    "O conjunto de dados utilizado neste trabalho foi disponibilizado pelo SIGAA e é sigiloso, por isso não haverá links para acessá-lo. O objetivo deste trabalho é clusterizar um conjunto de dados que não possui etiqueta, para isso será usado o algoritmo K-médias e os índices de validação de Dunn e Calinski-Harabasz (CH).\n",
    "\n",
    "O trecho de código abaixo serviu para carregar o *dataset* no sistema computacional e aferir o número de atributos e amostras disponíveis:"
   ]
  },
  {
   "cell_type": "code",
   "execution_count": 1,
   "metadata": {
    "scrolled": true
   },
   "outputs": [
    {
     "name": "stdout",
     "output_type": "stream",
     "text": [
      "Número de atributos: 6\n",
      "Número de amostras:  1701\n"
     ]
    },
    {
     "name": "stderr",
     "output_type": "stream",
     "text": [
      "/home/romulo/Dropbox/Mestrado/[00 old]/[DISCIPLINA] Reconhecimento de Padrões/Trabalhos Computacionais/TC3/venv/lib/python3.6/site-packages/ipykernel_launcher.py:4: FutureWarning: read_table is deprecated, use read_csv instead, passing sep='\\t'.\n",
      "  after removing the cwd from sys.path.\n"
     ]
    }
   ],
   "source": [
    "# carregando dataset\n",
    "import pandas as pd\n",
    "\n",
    "dataset = pd.read_table(\"./datasetTC3.dat\", header=None)\n",
    "print(\"Número de atributos: {}\\nNúmero de amostras:  {}\".format(dataset.shape[1],dataset.shape[0]))"
   ]
  },
  {
   "cell_type": "markdown",
   "metadata": {},
   "source": [
    "# 2. Clusterização e análise"
   ]
  },
  {
   "cell_type": "markdown",
   "metadata": {},
   "source": [
    "A metodologia aplicada para a clusterização e análise foi:\n",
    "1. Normalizar os dados;\n",
    "2. Para cada valor distinto de *K*:\n",
    "   1. Aplicou-se o algoritmo K-médias 100 vezes;\n",
    "   2. Escolheu-se os protótipos da rodada que produziu a menor soma das distâncias quadráticas (SSD);\n",
    "   3. Calculou-se os índices de Dunn e CH"
   ]
  },
  {
   "cell_type": "markdown",
   "metadata": {},
   "source": [
    "Para o cálculo do índice de Dunn foi, após verificada, utilizada a implementação de Joaquim Viegas, disponível em: https://github.com/jqmviegas/jqm_cvi/blob/master/jqmcvi/base.py. Para o índice CH uma função própria foi desenvolvida, inspirada na função de Viegas para índice de Dunn, que o código abaixo apresenta:"
   ]
  },
  {
   "cell_type": "code",
   "execution_count": 2,
   "metadata": {},
   "outputs": [],
   "source": [
    "from numpy import trace\n",
    "\n",
    "def ch_eval(points, kmeans):\n",
    "    ks, N = np.unique(np.sort(kmeans.labels_), return_counts=True)\n",
    "    x_bar = np.mean(points, axis=0).reshape(-1,1)\n",
    "    \n",
    "    l_range = ks.tolist()\n",
    "    # matriz dispersão entregrupos\n",
    "    Bk = np.zeros((points.shape[1],points.shape[1]))\n",
    "    # matriz dispersão intragrupo\n",
    "    Wk = np.zeros((points.shape[1],points.shape[1]))\n",
    "    for i in range(len(ks)): # para cada protótip\n",
    "        wi = kmeans.cluster_centers_[i].reshape(-1,1) # protótipo do cluster 'i'\n",
    "        temp = wi - x_bar\n",
    "        Bk += N[i]*np.matmul(temp,temp.T)\n",
    "        \n",
    "        Vi = points[kmeans.labels_==i].T\n",
    "        for l in range(Vi.shape[1]): # para cada elemento da partição 'i'\n",
    "            temp = Vi[:,l] - wi\n",
    "            Wk += np.matmul(temp,temp.T)\n",
    "            \n",
    "    N = points.shape[0]\n",
    "    K = len(ks)\n",
    "    ch = trace(Bk)*(N-K) / ((K-1)*trace(Wk))\n",
    "    return ch"
   ]
  },
  {
   "cell_type": "markdown",
   "metadata": {},
   "source": [
    "O código abaixo calcula os índices propostos para diversos valores de $K$ e gera um gráfico dos índices em função do número de agrupamentos:"
   ]
  },
  {
   "cell_type": "code",
   "execution_count": 3,
   "metadata": {
    "scrolled": true
   },
   "outputs": [
    {
     "name": "stdout",
     "output_type": "stream",
     "text": [
      "CPU times: user 6.6 s, sys: 4.7 s, total: 11.3 s\n",
      "Wall time: 4.41 s\n"
     ]
    }
   ],
   "source": [
    "%%time\n",
    "import base\n",
    "import numpy as np\n",
    "from sklearn.cluster import KMeans\n",
    "from sklearn.preprocessing import MinMaxScaler\n",
    "\n",
    "temp = dataset.astype(np.float64).values\n",
    "scale = MinMaxScaler().fit(temp) # guardar o objeto scale para fazer a \n",
    "                                 # transformação inversa posteriormente\n",
    "X = scale.transform(temp)\n",
    "\n",
    "# Hiper-parâmetros\n",
    "rodadas = 100   # número de rodadas com diferentes inicializações\n",
    "Ks = [i for i in range(2, 11)] # número de protótipos\n",
    "\n",
    "# métricas de validação\n",
    "dunn = [0]*len(Ks)\n",
    "ch   = [0]*len(Ks)\n",
    "for K in Ks:\n",
    "    kmeans = KMeans(n_clusters=K, n_init=rodadas, init='random', n_jobs=-1).fit(X)\n",
    "\n",
    "    dunn[K-Ks[0]] = base.dunn_fast(X, kmeans.labels_)\n",
    "    ch[K-Ks[0]]   = ch_eval(X, kmeans)"
   ]
  },
  {
   "cell_type": "code",
   "execution_count": 4,
   "metadata": {},
   "outputs": [
    {
     "data": {
      "text/html": [
       "<script type=\"text/javascript\">window.PlotlyConfig = {MathJaxConfig: 'local'};</script><script type=\"text/javascript\">if (window.MathJax) {MathJax.Hub.Config({SVG: {font: \"STIX-Web\"}});}</script><script>requirejs.config({paths: { 'plotly': ['https://cdn.plot.ly/plotly-latest.min']},});if(!window._Plotly) {require(['plotly'],function(plotly) {window._Plotly=plotly;});}</script>"
      ],
      "text/vnd.plotly.v1+html": [
       "<script type=\"text/javascript\">window.PlotlyConfig = {MathJaxConfig: 'local'};</script><script type=\"text/javascript\">if (window.MathJax) {MathJax.Hub.Config({SVG: {font: \"STIX-Web\"}});}</script><script>requirejs.config({paths: { 'plotly': ['https://cdn.plot.ly/plotly-latest.min']},});if(!window._Plotly) {require(['plotly'],function(plotly) {window._Plotly=plotly;});}</script>"
      ]
     },
     "metadata": {},
     "output_type": "display_data"
    },
    {
     "data": {
      "application/vnd.plotly.v1+json": {
       "config": {
        "linkText": "Export to plot.ly",
        "plotlyServerURL": "https://plot.ly",
        "showLink": false
       },
       "data": [
        {
         "mode": "lines+markers",
         "name": "Índice Dunn",
         "type": "scatter",
         "uid": "45201ed6-39a5-4369-a4fc-e2137b57d566",
         "x": [
          2,
          3,
          4,
          5,
          6,
          7,
          8,
          9,
          10
         ],
         "y": [
          0.36803265756052456,
          0.03114650522971636,
          0.021126714837061227,
          0.014707804955636734,
          0.015540952298739868,
          0.010274848396926243,
          0.010274848396926243,
          0.016075937453761263,
          0.010425314837212922
         ]
        },
        {
         "mode": "lines+markers",
         "name": "Índice CH",
         "type": "scatter",
         "uid": "c231a1d4-c599-49be-ba94-2916b86dfdd2",
         "x": [
          2,
          3,
          4,
          5,
          6,
          7,
          8,
          9,
          10
         ],
         "y": [
          30.585521716095283,
          21.620933840115867,
          17.498761421892233,
          13.611205046004196,
          11.272915906963515,
          9.475916655694226,
          8.173537020599499,
          7.1683157633171195,
          6.3838319695070584
         ]
        }
       ],
       "layout": {
        "legend": {
         "orientation": "h",
         "y": -0.05
        },
        "title": {
         "text": "Índice de validação em função de K"
        },
        "xaxis": {
         "title": {
          "text": "Número de agrupamentos K"
         }
        },
        "yaxis": {
         "title": {
          "text": "Índices de validação"
         }
        }
       }
      },
      "text/html": [
       "<div id=\"8909869b-b900-47df-b4a7-266a8f26c53e\" style=\"height: 525px; width: 100%;\" class=\"plotly-graph-div\"></div><script type=\"text/javascript\">require([\"plotly\"], function(Plotly) { window.PLOTLYENV=window.PLOTLYENV || {};window.PLOTLYENV.BASE_URL=\"https://plot.ly\";Plotly.newPlot(\"8909869b-b900-47df-b4a7-266a8f26c53e\", [{\"mode\": \"lines+markers\", \"name\": \"\\u00cdndice Dunn\", \"x\": [2, 3, 4, 5, 6, 7, 8, 9, 10], \"y\": [0.36803265756052456, 0.03114650522971636, 0.021126714837061227, 0.014707804955636734, 0.015540952298739868, 0.010274848396926243, 0.010274848396926243, 0.016075937453761263, 0.010425314837212922], \"type\": \"scatter\", \"uid\": \"45201ed6-39a5-4369-a4fc-e2137b57d566\"}, {\"mode\": \"lines+markers\", \"name\": \"\\u00cdndice CH\", \"x\": [2, 3, 4, 5, 6, 7, 8, 9, 10], \"y\": [30.585521716095283, 21.620933840115867, 17.498761421892233, 13.611205046004196, 11.272915906963515, 9.475916655694226, 8.173537020599499, 7.1683157633171195, 6.3838319695070584], \"type\": \"scatter\", \"uid\": \"c231a1d4-c599-49be-ba94-2916b86dfdd2\"}], {\"legend\": {\"orientation\": \"h\", \"y\": -0.05}, \"title\": {\"text\": \"\\u00cdndice de valida\\u00e7\\u00e3o em fun\\u00e7\\u00e3o de K\"}, \"xaxis\": {\"title\": {\"text\": \"N\\u00famero de agrupamentos K\"}}, \"yaxis\": {\"title\": {\"text\": \"\\u00cdndices de valida\\u00e7\\u00e3o\"}}}, {\"showLink\": false, \"linkText\": \"Export to plot.ly\", \"plotlyServerURL\": \"https://plot.ly\"})});</script><script type=\"text/javascript\">window.addEventListener(\"resize\", function(){window._Plotly.Plots.resize(document.getElementById(\"8909869b-b900-47df-b4a7-266a8f26c53e\"));});</script>"
      ],
      "text/vnd.plotly.v1+html": [
       "<div id=\"8909869b-b900-47df-b4a7-266a8f26c53e\" style=\"height: 525px; width: 100%;\" class=\"plotly-graph-div\"></div><script type=\"text/javascript\">require([\"plotly\"], function(Plotly) { window.PLOTLYENV=window.PLOTLYENV || {};window.PLOTLYENV.BASE_URL=\"https://plot.ly\";Plotly.newPlot(\"8909869b-b900-47df-b4a7-266a8f26c53e\", [{\"mode\": \"lines+markers\", \"name\": \"\\u00cdndice Dunn\", \"x\": [2, 3, 4, 5, 6, 7, 8, 9, 10], \"y\": [0.36803265756052456, 0.03114650522971636, 0.021126714837061227, 0.014707804955636734, 0.015540952298739868, 0.010274848396926243, 0.010274848396926243, 0.016075937453761263, 0.010425314837212922], \"type\": \"scatter\", \"uid\": \"45201ed6-39a5-4369-a4fc-e2137b57d566\"}, {\"mode\": \"lines+markers\", \"name\": \"\\u00cdndice CH\", \"x\": [2, 3, 4, 5, 6, 7, 8, 9, 10], \"y\": [30.585521716095283, 21.620933840115867, 17.498761421892233, 13.611205046004196, 11.272915906963515, 9.475916655694226, 8.173537020599499, 7.1683157633171195, 6.3838319695070584], \"type\": \"scatter\", \"uid\": \"c231a1d4-c599-49be-ba94-2916b86dfdd2\"}], {\"legend\": {\"orientation\": \"h\", \"y\": -0.05}, \"title\": {\"text\": \"\\u00cdndice de valida\\u00e7\\u00e3o em fun\\u00e7\\u00e3o de K\"}, \"xaxis\": {\"title\": {\"text\": \"N\\u00famero de agrupamentos K\"}}, \"yaxis\": {\"title\": {\"text\": \"\\u00cdndices de valida\\u00e7\\u00e3o\"}}}, {\"showLink\": false, \"linkText\": \"Export to plot.ly\", \"plotlyServerURL\": \"https://plot.ly\"})});</script><script type=\"text/javascript\">window.addEventListener(\"resize\", function(){window._Plotly.Plots.resize(document.getElementById(\"8909869b-b900-47df-b4a7-266a8f26c53e\"));});</script>"
      ]
     },
     "metadata": {},
     "output_type": "display_data"
    },
    {
     "name": "stdout",
     "output_type": "stream",
     "text": [
      "K_opt segundo índice de Dunn : 2\n",
      "K_opt segundo índice de CH   : 2\n"
     ]
    }
   ],
   "source": [
    "import plotly.offline as plt\n",
    "import plotly.graph_objs as go\n",
    "\n",
    "plt.init_notebook_mode(connected=True) # habilitando plot dentro do jupyter notebook\n",
    "\n",
    "\n",
    "dunn_trace = go.Scatter(x=Ks, y=dunn, mode='lines+markers', name=\"Índice Dunn\")\n",
    "ch_trace   = go.Scatter(x=Ks, y=ch,   mode='lines+markers', name=\"Índice CH\"  )\n",
    "\n",
    "data = [dunn_trace, ch_trace]\n",
    "layout = go.Layout(\n",
    "    title = \"Índice de validação em função de K\",\n",
    "    legend=dict(orientation=\"h\", y=-.05),\n",
    "    xaxis=dict(title=\"Número de agrupamentos K\"),\n",
    "    yaxis=dict(title=\"Índices de validação\")\n",
    ")\n",
    "\n",
    "fig = go.Figure(data=data, layout=layout)\n",
    "plt.iplot(fig)\n",
    "\n",
    "print(\"K_opt segundo índice de Dunn : {}\".format(Ks[np.argmax(dunn)]))\n",
    "print(\"K_opt segundo índice de CH   : {}\".format(Ks[np.argmax(ch)]))"
   ]
  },
  {
   "cell_type": "markdown",
   "metadata": {
    "scrolled": true
   },
   "source": [
    "O resultado da simulação aponta que não houve discordância em relação ao $K_{opt}$, mas se houvesse seria natural. Duas métricas diferentes, que quantizam e balanceiam de forma diferente a coesão interna e separação externa dos agrupamentos, podem facilmente discordar no valor ótimo de agrupamentos."
   ]
  },
  {
   "cell_type": "markdown",
   "metadata": {},
   "source": [
    "Por fim foi realizada uma análise estatística dos agrupamentos, para tal o código abaixo foi utilizado:"
   ]
  },
  {
   "cell_type": "code",
   "execution_count": 5,
   "metadata": {
    "scrolled": false
   },
   "outputs": [
    {
     "name": "stdout",
     "output_type": "stream",
     "text": [
      "Agrupamento 1: (811 objetos)\n"
     ]
    },
    {
     "data": {
      "text/html": [
       "<div>\n",
       "<style scoped>\n",
       "    .dataframe tbody tr th:only-of-type {\n",
       "        vertical-align: middle;\n",
       "    }\n",
       "\n",
       "    .dataframe tbody tr th {\n",
       "        vertical-align: top;\n",
       "    }\n",
       "\n",
       "    .dataframe thead th {\n",
       "        text-align: right;\n",
       "    }\n",
       "</style>\n",
       "<table border=\"1\" class=\"dataframe\">\n",
       "  <thead>\n",
       "    <tr style=\"text-align: right;\">\n",
       "      <th></th>\n",
       "      <th>Pos. protótipo</th>\n",
       "      <th>Mínimo</th>\n",
       "      <th>Máximo</th>\n",
       "      <th>Mediana</th>\n",
       "      <th>Desv. Padrão</th>\n",
       "    </tr>\n",
       "  </thead>\n",
       "  <tbody>\n",
       "    <tr>\n",
       "      <th>Atributo 1</th>\n",
       "      <td>98.62</td>\n",
       "      <td>0.00</td>\n",
       "      <td>100.00</td>\n",
       "      <td>100.00</td>\n",
       "      <td>7.91</td>\n",
       "    </tr>\n",
       "    <tr>\n",
       "      <th>Atributo 2</th>\n",
       "      <td>4.33</td>\n",
       "      <td>0.00</td>\n",
       "      <td>72.67</td>\n",
       "      <td>3.17</td>\n",
       "      <td>4.49</td>\n",
       "    </tr>\n",
       "    <tr>\n",
       "      <th>Atributo 3</th>\n",
       "      <td>1,912.55</td>\n",
       "      <td>38.22</td>\n",
       "      <td>117,287.30</td>\n",
       "      <td>342.19</td>\n",
       "      <td>6,589.50</td>\n",
       "    </tr>\n",
       "    <tr>\n",
       "      <th>Atributo 4</th>\n",
       "      <td>2.09</td>\n",
       "      <td>0.21</td>\n",
       "      <td>3.46</td>\n",
       "      <td>1.81</td>\n",
       "      <td>1.05</td>\n",
       "    </tr>\n",
       "    <tr>\n",
       "      <th>Atributo 5</th>\n",
       "      <td>2.16</td>\n",
       "      <td>0.27</td>\n",
       "      <td>3.46</td>\n",
       "      <td>2.00</td>\n",
       "      <td>1.01</td>\n",
       "    </tr>\n",
       "    <tr>\n",
       "      <th>Atributo 6</th>\n",
       "      <td>251,644.98</td>\n",
       "      <td>10.00</td>\n",
       "      <td>976,193.00</td>\n",
       "      <td>135,089.00</td>\n",
       "      <td>275,146.62</td>\n",
       "    </tr>\n",
       "  </tbody>\n",
       "</table>\n",
       "</div>"
      ],
      "text/plain": [
       "            Pos. protótipo  Mínimo     Máximo    Mediana  Desv. Padrão\n",
       "Atributo 1           98.62    0.00     100.00     100.00          7.91\n",
       "Atributo 2            4.33    0.00      72.67       3.17          4.49\n",
       "Atributo 3        1,912.55   38.22 117,287.30     342.19      6,589.50\n",
       "Atributo 4            2.09    0.21       3.46       1.81          1.05\n",
       "Atributo 5            2.16    0.27       3.46       2.00          1.01\n",
       "Atributo 6      251,644.98   10.00 976,193.00 135,089.00    275,146.62"
      ]
     },
     "metadata": {},
     "output_type": "display_data"
    },
    {
     "name": "stdout",
     "output_type": "stream",
     "text": [
      "Agrupamento 2: (890 objetos)\n"
     ]
    },
    {
     "data": {
      "text/html": [
       "<div>\n",
       "<style scoped>\n",
       "    .dataframe tbody tr th:only-of-type {\n",
       "        vertical-align: middle;\n",
       "    }\n",
       "\n",
       "    .dataframe tbody tr th {\n",
       "        vertical-align: top;\n",
       "    }\n",
       "\n",
       "    .dataframe thead th {\n",
       "        text-align: right;\n",
       "    }\n",
       "</style>\n",
       "<table border=\"1\" class=\"dataframe\">\n",
       "  <thead>\n",
       "    <tr style=\"text-align: right;\">\n",
       "      <th></th>\n",
       "      <th>Pos. protótipo</th>\n",
       "      <th>Mínimo</th>\n",
       "      <th>Máximo</th>\n",
       "      <th>Mediana</th>\n",
       "      <th>Desv. Padrão</th>\n",
       "    </tr>\n",
       "  </thead>\n",
       "  <tbody>\n",
       "    <tr>\n",
       "      <th>Atributo 1</th>\n",
       "      <td>99.62</td>\n",
       "      <td>50.00</td>\n",
       "      <td>100.00</td>\n",
       "      <td>100.00</td>\n",
       "      <td>3.02</td>\n",
       "    </tr>\n",
       "    <tr>\n",
       "      <th>Atributo 2</th>\n",
       "      <td>4.09</td>\n",
       "      <td>0.00</td>\n",
       "      <td>37.00</td>\n",
       "      <td>3.75</td>\n",
       "      <td>2.68</td>\n",
       "    </tr>\n",
       "    <tr>\n",
       "      <th>Atributo 3</th>\n",
       "      <td>1,009.29</td>\n",
       "      <td>45.34</td>\n",
       "      <td>24,965.86</td>\n",
       "      <td>365.95</td>\n",
       "      <td>1,947.01</td>\n",
       "    </tr>\n",
       "    <tr>\n",
       "      <th>Atributo 4</th>\n",
       "      <td>2.24</td>\n",
       "      <td>0.38</td>\n",
       "      <td>3.46</td>\n",
       "      <td>2.34</td>\n",
       "      <td>1.03</td>\n",
       "    </tr>\n",
       "    <tr>\n",
       "      <th>Atributo 5</th>\n",
       "      <td>2.28</td>\n",
       "      <td>0.43</td>\n",
       "      <td>3.46</td>\n",
       "      <td>2.34</td>\n",
       "      <td>1.01</td>\n",
       "    </tr>\n",
       "    <tr>\n",
       "      <th>Atributo 6</th>\n",
       "      <td>9,354,056.55</td>\n",
       "      <td>8,000,011.00</td>\n",
       "      <td>9,995,020.00</td>\n",
       "      <td>9,371,503.50</td>\n",
       "      <td>322,709.28</td>\n",
       "    </tr>\n",
       "  </tbody>\n",
       "</table>\n",
       "</div>"
      ],
      "text/plain": [
       "            Pos. protótipo       Mínimo       Máximo      Mediana  \\\n",
       "Atributo 1           99.62        50.00       100.00       100.00   \n",
       "Atributo 2            4.09         0.00        37.00         3.75   \n",
       "Atributo 3        1,009.29        45.34    24,965.86       365.95   \n",
       "Atributo 4            2.24         0.38         3.46         2.34   \n",
       "Atributo 5            2.28         0.43         3.46         2.34   \n",
       "Atributo 6    9,354,056.55 8,000,011.00 9,995,020.00 9,371,503.50   \n",
       "\n",
       "            Desv. Padrão  \n",
       "Atributo 1          3.02  \n",
       "Atributo 2          2.68  \n",
       "Atributo 3      1,947.01  \n",
       "Atributo 4          1.03  \n",
       "Atributo 5          1.01  \n",
       "Atributo 6    322,709.28  "
      ]
     },
     "metadata": {},
     "output_type": "display_data"
    }
   ],
   "source": [
    "import pandas as pd\n",
    "pd.options.display.float_format = '{:,.2f}'.format\n",
    "\n",
    "cabecalho = ['Pos. protótipo', 'Mínimo', 'Máximo', 'Mediana', 'Desv. Padrão']\n",
    "\n",
    "kmeans = KMeans(n_clusters=2, n_init=100, max_iter=300,\n",
    "                init='random', n_jobs=-1).fit(X)\n",
    "\n",
    "# calculando estatísticas por agrupamento\n",
    "for k in range(len(kmeans.cluster_centers_)):\n",
    "    Vi = X[kmeans.labels_==k].copy()\n",
    "    Vi = scale.inverse_transform(Vi) # escalonando de volta aos valores originais\n",
    "    pi = scale.inverse_transform(kmeans.cluster_centers_[k].reshape(1,-1)) # posição do protótipo\n",
    "    pi = np.asarray(pi).reshape(-1)\n",
    "\n",
    "    print(\"Agrupamento {}: ({} objetos)\".format(k+1,Vi.shape[0]))\n",
    "    index = ['Atributo {}'.format(i+1) for i in range(Vi.shape[1])]\n",
    "\n",
    "    data = np.matrix([pi, np.amin(Vi,axis=0), np.amax(Vi,axis=0), \n",
    "                      np.median(Vi,axis=0), np.std(Vi,axis=0)]).T\n",
    "\n",
    "    df_cluster_k = pd.DataFrame(data, columns=cabecalho, index=[index])\n",
    "    display(df_cluster_k)\n",
    "    #print_df(df_cluster_k,'agrupamento{}'.format(k+1), \"Agrupamento {}: ({} objetos)\".format(k+1,Vi.shape[0]))"
   ]
  },
  {
   "cell_type": "code",
   "execution_count": 6,
   "metadata": {},
   "outputs": [],
   "source": [
    "def print_df(df, nome, descricao):\n",
    "    print(\n",
    "        \"\\\\begin{table}[h!]\\n\"\n",
    "        \"    \\captionsetup{width=16cm}%ATENÇÃO: Ajuste a largura do título\\n\"\n",
    "        \"    \\Caption{\\label{tab:\"+nome+\"} \"+descricao+\"}\\n\"\n",
    "        \"    \\\\begin{adjustbox}{width=1\\\\textwidth}\\n\"\n",
    "        \"    \\small\\n\"\n",
    "        +df.to_latex()+\n",
    "        \"    \\end{adjustbox}\\n\"\n",
    "        \"    \\Fonte{O autor.}\\n\"\n",
    "        \"\\end{table}\")"
   ]
  }
 ],
 "metadata": {
  "kernelspec": {
   "display_name": "Python 3",
   "language": "python",
   "name": "python3"
  },
  "language_info": {
   "codemirror_mode": {
    "name": "ipython",
    "version": 3
   },
   "file_extension": ".py",
   "mimetype": "text/x-python",
   "name": "python",
   "nbconvert_exporter": "python",
   "pygments_lexer": "ipython3",
   "version": "3.6.5"
  }
 },
 "nbformat": 4,
 "nbformat_minor": 2
}
